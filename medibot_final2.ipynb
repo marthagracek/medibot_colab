{
  "cells": [
    {
      "cell_type": "code",
      "execution_count": 1,
      "metadata": {
        "colab": {
          "base_uri": "https://localhost:8080/"
        },
        "id": "kfTRJ-oWVp8f",
        "outputId": "9c403856-c262-42a4-e643-83a352b7dd8b"
      },
      "outputs": [
        {
          "output_type": "stream",
          "name": "stdout",
          "text": [
            "\u001b[?25l     \u001b[90m━━━━━━━━━━━━━━━━━━━━━━━━━━━━━━━━━━━━━━━━\u001b[0m \u001b[32m0.0/67.3 kB\u001b[0m \u001b[31m?\u001b[0m eta \u001b[36m-:--:--\u001b[0m\r\u001b[2K     \u001b[90m━━━━━━━━━━━━━━━━━━━━━━━━━━━━━━━━━━━━━━━━\u001b[0m \u001b[32m67.3/67.3 kB\u001b[0m \u001b[31m3.1 MB/s\u001b[0m eta \u001b[36m0:00:00\u001b[0m\n",
            "\u001b[?25h  Installing build dependencies ... \u001b[?25l\u001b[?25hdone\n",
            "  Getting requirements to build wheel ... \u001b[?25l\u001b[?25hdone\n",
            "  Preparing metadata (pyproject.toml) ... \u001b[?25l\u001b[?25hdone\n",
            "\u001b[2K   \u001b[90m━━━━━━━━━━━━━━━━━━━━━━━━━━━━━━━━━━━━━━━━\u001b[0m \u001b[32m42.0/42.0 kB\u001b[0m \u001b[31m2.6 MB/s\u001b[0m eta \u001b[36m0:00:00\u001b[0m\n",
            "\u001b[2K   \u001b[90m━━━━━━━━━━━━━━━━━━━━━━━━━━━━━━━━━━━━━━━━\u001b[0m \u001b[32m19.8/19.8 MB\u001b[0m \u001b[31m62.2 MB/s\u001b[0m eta \u001b[36m0:00:00\u001b[0m\n",
            "\u001b[2K   \u001b[90m━━━━━━━━━━━━━━━━━━━━━━━━━━━━━━━━━━━━━━━━\u001b[0m \u001b[32m24.1/24.1 MB\u001b[0m \u001b[31m58.6 MB/s\u001b[0m eta \u001b[36m0:00:00\u001b[0m\n",
            "\u001b[2K   \u001b[90m━━━━━━━━━━━━━━━━━━━━━━━━━━━━━━━━━━━━━━━━\u001b[0m \u001b[32m2.5/2.5 MB\u001b[0m \u001b[31m66.0 MB/s\u001b[0m eta \u001b[36m0:00:00\u001b[0m\n",
            "\u001b[2K   \u001b[90m━━━━━━━━━━━━━━━━━━━━━━━━━━━━━━━━━━━━━━━━\u001b[0m \u001b[32m284.2/284.2 kB\u001b[0m \u001b[31m18.7 MB/s\u001b[0m eta \u001b[36m0:00:00\u001b[0m\n",
            "\u001b[2K   \u001b[90m━━━━━━━━━━━━━━━━━━━━━━━━━━━━━━━━━━━━━━━━\u001b[0m \u001b[32m1.9/1.9 MB\u001b[0m \u001b[31m56.4 MB/s\u001b[0m eta \u001b[36m0:00:00\u001b[0m\n",
            "\u001b[2K   \u001b[90m━━━━━━━━━━━━━━━━━━━━━━━━━━━━━━━━━━━━━━━━\u001b[0m \u001b[32m103.3/103.3 kB\u001b[0m \u001b[31m6.8 MB/s\u001b[0m eta \u001b[36m0:00:00\u001b[0m\n",
            "\u001b[2K   \u001b[90m━━━━━━━━━━━━━━━━━━━━━━━━━━━━━━━━━━━━━━━━\u001b[0m \u001b[32m16.5/16.5 MB\u001b[0m \u001b[31m66.9 MB/s\u001b[0m eta \u001b[36m0:00:00\u001b[0m\n",
            "\u001b[2K   \u001b[90m━━━━━━━━━━━━━━━━━━━━━━━━━━━━━━━━━━━━━━━━\u001b[0m \u001b[32m72.5/72.5 kB\u001b[0m \u001b[31m5.9 MB/s\u001b[0m eta \u001b[36m0:00:00\u001b[0m\n",
            "\u001b[2K   \u001b[90m━━━━━━━━━━━━━━━━━━━━━━━━━━━━━━━━━━━━━━━━\u001b[0m \u001b[32m105.4/105.4 kB\u001b[0m \u001b[31m6.8 MB/s\u001b[0m eta \u001b[36m0:00:00\u001b[0m\n",
            "\u001b[2K   \u001b[90m━━━━━━━━━━━━━━━━━━━━━━━━━━━━━━━━━━━━━━━━\u001b[0m \u001b[32m71.6/71.6 kB\u001b[0m \u001b[31m5.4 MB/s\u001b[0m eta \u001b[36m0:00:00\u001b[0m\n",
            "\u001b[2K   \u001b[90m━━━━━━━━━━━━━━━━━━━━━━━━━━━━━━━━━━━━━━━━\u001b[0m \u001b[32m510.8/510.8 kB\u001b[0m \u001b[31m27.8 MB/s\u001b[0m eta \u001b[36m0:00:00\u001b[0m\n",
            "\u001b[2K   \u001b[90m━━━━━━━━━━━━━━━━━━━━━━━━━━━━━━━━━━━━━━━━\u001b[0m \u001b[32m50.9/50.9 kB\u001b[0m \u001b[31m3.6 MB/s\u001b[0m eta \u001b[36m0:00:00\u001b[0m\n",
            "\u001b[2K   \u001b[90m━━━━━━━━━━━━━━━━━━━━━━━━━━━━━━━━━━━━━━━━\u001b[0m \u001b[32m4.7/4.7 MB\u001b[0m \u001b[31m68.9 MB/s\u001b[0m eta \u001b[36m0:00:00\u001b[0m\n",
            "\u001b[2K   \u001b[90m━━━━━━━━━━━━━━━━━━━━━━━━━━━━━━━━━━━━━━━━\u001b[0m \u001b[32m452.2/452.2 kB\u001b[0m \u001b[31m19.2 MB/s\u001b[0m eta \u001b[36m0:00:00\u001b[0m\n",
            "\u001b[2K   \u001b[90m━━━━━━━━━━━━━━━━━━━━━━━━━━━━━━━━━━━━━━━━\u001b[0m \u001b[32m46.0/46.0 kB\u001b[0m \u001b[31m2.9 MB/s\u001b[0m eta \u001b[36m0:00:00\u001b[0m\n",
            "\u001b[2K   \u001b[90m━━━━━━━━━━━━━━━━━━━━━━━━━━━━━━━━━━━━━━━━\u001b[0m \u001b[32m86.8/86.8 kB\u001b[0m \u001b[31m6.6 MB/s\u001b[0m eta \u001b[36m0:00:00\u001b[0m\n",
            "\u001b[?25h  Building wheel for pypika (pyproject.toml) ... \u001b[?25l\u001b[?25hdone\n",
            "✅ Environment ready! Docs folder: medical_rag_bot/docs\n"
          ]
        }
      ],
      "source": [
        "\n",
        "# Setup Environment\n",
        "\n",
        "import os, warnings\n",
        "warnings.filterwarnings('ignore')\n",
        "\n",
        "# Project directories\n",
        "os.makedirs('medical_rag_bot/docs', exist_ok=True)\n",
        "os.chdir('/content/medical_rag_bot')\n",
        "\n",
        "# Install required packages\n",
        "!pip install -q google-generativeai langchain langchain-google-genai chromadb PyMuPDF langchain-community\n",
        "\n",
        "print(\"✅ Environment ready! Docs folder: medical_rag_bot/docs\")\n"
      ]
    },
    {
      "cell_type": "code",
      "execution_count": 4,
      "metadata": {
        "colab": {
          "base_uri": "https://localhost:8080/"
        },
        "id": "0UwlUzXmVuPt",
        "outputId": "5861210d-5f4d-46a8-ffa7-46f05262c6bb"
      },
      "outputs": [
        {
          "output_type": "stream",
          "name": "stdout",
          "text": [
            "✅ Gemini API configured!\n"
          ]
        }
      ],
      "source": [
        "# API Configuration & Imports\n",
        "import os\n",
        "import google.generativeai as genai\n",
        "from langchain.vectorstores import Chroma\n",
        "from langchain_google_genai import ChatGoogleGenerativeAI, GoogleGenerativeAIEmbeddings\n",
        "from langchain.document_loaders import PyMuPDFLoader\n",
        "from langchain.text_splitter import RecursiveCharacterTextSplitter\n",
        "from langchain.chains import RetrievalQA\n",
        "\n",
        "# Configure Gemini API\n",
        "try:\n",
        "    API_KEY = userdata.get('MY_GEMINI_KEY')\n",
        "    os.environ[\"GOOGLE_API_KEY\"] = API_KEY\n",
        "    genai.configure(api_key=API_KEY)\n",
        "    print(\"✅ Gemini API configured!\")\n",
        "except Exception as e:\n",
        "    print(\"❌ API Key Error:\", e)\n"
      ]
    },
    {
      "cell_type": "code",
      "execution_count": 5,
      "metadata": {
        "colab": {
          "base_uri": "https://localhost:8080/",
          "height": 108
        },
        "id": "sws-pwH7Vxqn",
        "outputId": "1ce377ef-5705-4359-dbf8-876abf965f22"
      },
      "outputs": [
        {
          "output_type": "stream",
          "name": "stdout",
          "text": [
            "📋 Upload your medical PDFs\n"
          ]
        },
        {
          "output_type": "display_data",
          "data": {
            "text/plain": [
              "<IPython.core.display.HTML object>"
            ],
            "text/html": [
              "\n",
              "     <input type=\"file\" id=\"files-1b46914a-2cf4-4526-bc69-ef0220b5d59b\" name=\"files[]\" multiple disabled\n",
              "        style=\"border:none\" />\n",
              "     <output id=\"result-1b46914a-2cf4-4526-bc69-ef0220b5d59b\">\n",
              "      Upload widget is only available when the cell has been executed in the\n",
              "      current browser session. Please rerun this cell to enable.\n",
              "      </output>\n",
              "      <script>// Copyright 2017 Google LLC\n",
              "//\n",
              "// Licensed under the Apache License, Version 2.0 (the \"License\");\n",
              "// you may not use this file except in compliance with the License.\n",
              "// You may obtain a copy of the License at\n",
              "//\n",
              "//      http://www.apache.org/licenses/LICENSE-2.0\n",
              "//\n",
              "// Unless required by applicable law or agreed to in writing, software\n",
              "// distributed under the License is distributed on an \"AS IS\" BASIS,\n",
              "// WITHOUT WARRANTIES OR CONDITIONS OF ANY KIND, either express or implied.\n",
              "// See the License for the specific language governing permissions and\n",
              "// limitations under the License.\n",
              "\n",
              "/**\n",
              " * @fileoverview Helpers for google.colab Python module.\n",
              " */\n",
              "(function(scope) {\n",
              "function span(text, styleAttributes = {}) {\n",
              "  const element = document.createElement('span');\n",
              "  element.textContent = text;\n",
              "  for (const key of Object.keys(styleAttributes)) {\n",
              "    element.style[key] = styleAttributes[key];\n",
              "  }\n",
              "  return element;\n",
              "}\n",
              "\n",
              "// Max number of bytes which will be uploaded at a time.\n",
              "const MAX_PAYLOAD_SIZE = 100 * 1024;\n",
              "\n",
              "function _uploadFiles(inputId, outputId) {\n",
              "  const steps = uploadFilesStep(inputId, outputId);\n",
              "  const outputElement = document.getElementById(outputId);\n",
              "  // Cache steps on the outputElement to make it available for the next call\n",
              "  // to uploadFilesContinue from Python.\n",
              "  outputElement.steps = steps;\n",
              "\n",
              "  return _uploadFilesContinue(outputId);\n",
              "}\n",
              "\n",
              "// This is roughly an async generator (not supported in the browser yet),\n",
              "// where there are multiple asynchronous steps and the Python side is going\n",
              "// to poll for completion of each step.\n",
              "// This uses a Promise to block the python side on completion of each step,\n",
              "// then passes the result of the previous step as the input to the next step.\n",
              "function _uploadFilesContinue(outputId) {\n",
              "  const outputElement = document.getElementById(outputId);\n",
              "  const steps = outputElement.steps;\n",
              "\n",
              "  const next = steps.next(outputElement.lastPromiseValue);\n",
              "  return Promise.resolve(next.value.promise).then((value) => {\n",
              "    // Cache the last promise value to make it available to the next\n",
              "    // step of the generator.\n",
              "    outputElement.lastPromiseValue = value;\n",
              "    return next.value.response;\n",
              "  });\n",
              "}\n",
              "\n",
              "/**\n",
              " * Generator function which is called between each async step of the upload\n",
              " * process.\n",
              " * @param {string} inputId Element ID of the input file picker element.\n",
              " * @param {string} outputId Element ID of the output display.\n",
              " * @return {!Iterable<!Object>} Iterable of next steps.\n",
              " */\n",
              "function* uploadFilesStep(inputId, outputId) {\n",
              "  const inputElement = document.getElementById(inputId);\n",
              "  inputElement.disabled = false;\n",
              "\n",
              "  const outputElement = document.getElementById(outputId);\n",
              "  outputElement.innerHTML = '';\n",
              "\n",
              "  const pickedPromise = new Promise((resolve) => {\n",
              "    inputElement.addEventListener('change', (e) => {\n",
              "      resolve(e.target.files);\n",
              "    });\n",
              "  });\n",
              "\n",
              "  const cancel = document.createElement('button');\n",
              "  inputElement.parentElement.appendChild(cancel);\n",
              "  cancel.textContent = 'Cancel upload';\n",
              "  const cancelPromise = new Promise((resolve) => {\n",
              "    cancel.onclick = () => {\n",
              "      resolve(null);\n",
              "    };\n",
              "  });\n",
              "\n",
              "  // Wait for the user to pick the files.\n",
              "  const files = yield {\n",
              "    promise: Promise.race([pickedPromise, cancelPromise]),\n",
              "    response: {\n",
              "      action: 'starting',\n",
              "    }\n",
              "  };\n",
              "\n",
              "  cancel.remove();\n",
              "\n",
              "  // Disable the input element since further picks are not allowed.\n",
              "  inputElement.disabled = true;\n",
              "\n",
              "  if (!files) {\n",
              "    return {\n",
              "      response: {\n",
              "        action: 'complete',\n",
              "      }\n",
              "    };\n",
              "  }\n",
              "\n",
              "  for (const file of files) {\n",
              "    const li = document.createElement('li');\n",
              "    li.append(span(file.name, {fontWeight: 'bold'}));\n",
              "    li.append(span(\n",
              "        `(${file.type || 'n/a'}) - ${file.size} bytes, ` +\n",
              "        `last modified: ${\n",
              "            file.lastModifiedDate ? file.lastModifiedDate.toLocaleDateString() :\n",
              "                                    'n/a'} - `));\n",
              "    const percent = span('0% done');\n",
              "    li.appendChild(percent);\n",
              "\n",
              "    outputElement.appendChild(li);\n",
              "\n",
              "    const fileDataPromise = new Promise((resolve) => {\n",
              "      const reader = new FileReader();\n",
              "      reader.onload = (e) => {\n",
              "        resolve(e.target.result);\n",
              "      };\n",
              "      reader.readAsArrayBuffer(file);\n",
              "    });\n",
              "    // Wait for the data to be ready.\n",
              "    let fileData = yield {\n",
              "      promise: fileDataPromise,\n",
              "      response: {\n",
              "        action: 'continue',\n",
              "      }\n",
              "    };\n",
              "\n",
              "    // Use a chunked sending to avoid message size limits. See b/62115660.\n",
              "    let position = 0;\n",
              "    do {\n",
              "      const length = Math.min(fileData.byteLength - position, MAX_PAYLOAD_SIZE);\n",
              "      const chunk = new Uint8Array(fileData, position, length);\n",
              "      position += length;\n",
              "\n",
              "      const base64 = btoa(String.fromCharCode.apply(null, chunk));\n",
              "      yield {\n",
              "        response: {\n",
              "          action: 'append',\n",
              "          file: file.name,\n",
              "          data: base64,\n",
              "        },\n",
              "      };\n",
              "\n",
              "      let percentDone = fileData.byteLength === 0 ?\n",
              "          100 :\n",
              "          Math.round((position / fileData.byteLength) * 100);\n",
              "      percent.textContent = `${percentDone}% done`;\n",
              "\n",
              "    } while (position < fileData.byteLength);\n",
              "  }\n",
              "\n",
              "  // All done.\n",
              "  yield {\n",
              "    response: {\n",
              "      action: 'complete',\n",
              "    }\n",
              "  };\n",
              "}\n",
              "\n",
              "scope.google = scope.google || {};\n",
              "scope.google.colab = scope.google.colab || {};\n",
              "scope.google.colab._files = {\n",
              "  _uploadFiles,\n",
              "  _uploadFilesContinue,\n",
              "};\n",
              "})(self);\n",
              "</script> "
            ]
          },
          "metadata": {}
        },
        {
          "output_type": "stream",
          "name": "stdout",
          "text": [
            "Saving Medical_book.pdf to Medical_book.pdf\n",
            "✅ Uploaded: Medical_book.pdf\n"
          ]
        }
      ],
      "source": [
        "# Document Upload\n",
        "from google.colab import files\n",
        "import shutil\n",
        "\n",
        "print(\"📋 Upload your medical PDFs\")\n",
        "\n",
        "uploaded = files.upload()\n",
        "for filename in uploaded.keys():\n",
        "    if filename.endswith('.pdf'):\n",
        "        shutil.move(filename, f'docs/{filename}')\n",
        "        print(f\"✅ Uploaded: {filename}\")\n"
      ]
    },
    {
      "cell_type": "code",
      "execution_count": 6,
      "metadata": {
        "colab": {
          "base_uri": "https://localhost:8080/"
        },
        "id": "C0y1ZjvgV1wD",
        "outputId": "7220e513-0d04-4e9a-ee45-8c105d866045"
      },
      "outputs": [
        {
          "output_type": "stream",
          "name": "stdout",
          "text": [
            "📖 Processing documents...\n",
            "📄 Medical_book.pdf: 637 pages\n",
            "✅ Split into 2784 chunks\n"
          ]
        }
      ],
      "source": [
        "#  Document Processing\n",
        "print(\"📖 Processing documents...\")\n",
        "\n",
        "documents = []\n",
        "for filename in os.listdir(\"docs\"):\n",
        "    if filename.endswith(\".pdf\"):\n",
        "        loader = PyMuPDFLoader(f\"docs/{filename}\")\n",
        "        docs = loader.load()\n",
        "        documents.extend(docs)\n",
        "        print(f\"📄 {filename}: {len(docs)} pages\")\n",
        "\n",
        "if documents:\n",
        "    splitter = RecursiveCharacterTextSplitter(chunk_size=1200, chunk_overlap=200)\n",
        "    chunks = splitter.split_documents(documents)\n",
        "    print(f\"✅ Split into {len(chunks)} chunks\")\n",
        "else:\n",
        "    print(\"❌ No documents found!\")\n"
      ]
    },
    {
      "cell_type": "code",
      "execution_count": 14,
      "metadata": {
        "colab": {
          "base_uri": "https://localhost:8080/"
        },
        "id": "gxG8PM1eWKuo",
        "outputId": "663f383d-2576-41e9-e81e-5a99013ff26d"
      },
      "outputs": [
        {
          "output_type": "stream",
          "name": "stdout",
          "text": [
            "🧬 Creating Chroma Vector DB...\n",
            "✅ Vector DB + LLM ready!\n"
          ]
        }
      ],
      "source": [
        "# Vector Database Setup\n",
        "print(\"🧬 Creating Chroma Vector DB...\")\n",
        "\n",
        "embeddings = GoogleGenerativeAIEmbeddings(model=\"models/embedding-001\")\n",
        "vectordb = Chroma.from_documents(chunks, embeddings, persist_directory=\"medical_db\")\n",
        "retriever = vectordb.as_retriever(search_kwargs={\"k\": 3})\n",
        "\n",
        "llm = ChatGoogleGenerativeAI(model=\"gemini-1.5-flash\", temperature=0.2)\n",
        "\n",
        "print(\"✅ Vector DB + LLM ready!\")\n",
        "\n"
      ]
    },
    {
      "cell_type": "code",
      "execution_count": 16,
      "metadata": {
        "id": "zVGM9fVXjFEG"
      },
      "outputs": [],
      "source": [
        "#  Hybrid Q&A Functions\n",
        "# caching\n",
        "import hashlib\n",
        "cache = {}  # Simple memory cache\n",
        "\n",
        "def cached_hybrid_query(query: str):\n",
        "    \"\"\"Cache responses to avoid repeated API calls\"\"\"\n",
        "    # Create a simple key from the query\n",
        "    cache_key = query.lower().strip()\n",
        "\n",
        "    # Check if we've seen this question before\n",
        "    if cache_key in cache:\n",
        "        print(\"💡 Using cached response!\")\n",
        "        return cache[cache_key]\n",
        "\n",
        "    # If new question, process normally\n",
        "    print(\"🔄 Processing new query...\")\n",
        "    result = hybrid_query(query)\n",
        "\n",
        "    # Save result for next time\n",
        "    cache[cache_key] = result\n",
        "    return result\n",
        "\n",
        "# Create RetrievalQA chain\n",
        "qa_chain = RetrievalQA.from_chain_type(\n",
        "    llm=llm,\n",
        "    retriever=retriever,\n",
        "    chain_type=\"stuff\",           # \"map_reduce\" for large docs\n",
        "    return_source_documents=True  # fetch source docs for reference\n",
        ")\n",
        "\n",
        "def ask_llm_first(query: str):\n",
        "    \"\"\"Try LLM directly. If unsure, return None.\"\"\"\n",
        "    system_prompt = f\"\"\"\n",
        "    You are a medical AI assistant. Answer only if you are confident.\n",
        "    If you don’t know, reply exactly: \"I don't know.\"\n",
        "\n",
        "    Question: {query}\n",
        "    \"\"\"\n",
        "    response = llm.invoke(system_prompt)\n",
        "    content = response.content if hasattr(response, \"content\") else str(response)\n",
        "\n",
        "    if \"i don't know\" in content.lower():\n",
        "        return None\n",
        "    return content\n",
        "\n",
        "def ask_with_rag(query: str):\n",
        "    \"\"\"Fallback to RetrievalQA if LLM is unsure.\"\"\"\n",
        "    result = qa_chain.invoke({\"query\": query})\n",
        "    answer = result[\"result\"]\n",
        "\n",
        "    sources = [doc.metadata.get(\"source\", \"Unknown\") for doc in result[\"source_documents\"]]\n",
        "    sources = list(dict.fromkeys(sources))  # remove duplicates\n",
        "    return answer, sources\n",
        "\n",
        "def hybrid_query(query: str):\n",
        "    \"\"\"Main hybrid function: LLM first → fallback to RAG.\"\"\"\n",
        "    llm_answer = ask_llm_first(query)\n",
        "    if llm_answer:\n",
        "        return f\"🧠 DIRECT: {llm_answer}\"\n",
        "    else:\n",
        "        rag_answer, sources = ask_with_rag(query)\n",
        "        return f\"📚 RAG: {rag_answer}\\n\\n📎 Sources: {sources}\"\n"
      ]
    },
    {
      "cell_type": "code",
      "execution_count": null,
      "metadata": {
        "id": "iblPGk8-XA1_",
        "colab": {
          "base_uri": "https://localhost:8080/"
        },
        "outputId": "c06b0f63-3b58-4480-a23d-467b118895e1"
      },
      "outputs": [
        {
          "output_type": "stream",
          "name": "stdout",
          "text": [
            "🏥 Medical Chatbot (Type 'exit' to quit)\n",
            "\n",
            "💬 You: what is diabetes\n",
            "🔄 Processing new query...\n",
            "\n",
            "🤖 🧠 DIRECT: Diabetes is a group of metabolic disorders characterized by hyperglycemia, resulting from defects in insulin secretion, insulin action, or both.  This leads to elevated levels of glucose in the blood.\n",
            "\n",
            "💬 You:  breast feeding increases the transmission of aids by how much percentage\n",
            "🔄 Processing new query...\n",
            "\n",
            "🤖 📚 RAG: Breastfeeding increases the risk of HIV transmission by 10-20%.\n",
            "\n",
            "📎 Sources: ['docs/Medical_book.pdf']\n",
            "\n",
            "💬 You: define diabetes\n",
            "🔄 Processing new query...\n",
            "\n",
            "🤖 🧠 DIRECT: Diabetes is a group of metabolic disorders characterized by hyperglycemia resulting from defects in insulin secretion, insulin action, or both.\n",
            "\n",
            "💬 You: define diabetes\n",
            "💡 Using cached response!\n",
            "\n",
            "🤖 🧠 DIRECT: Diabetes is a group of metabolic disorders characterized by hyperglycemia resulting from defects in insulin secretion, insulin action, or both.\n",
            "\n",
            "💬 You: what is the percentage of excitement reported while using SSRIs\n",
            "🔄 Processing new query...\n",
            "\n",
            "🤖 📚 RAG: Excitation has been reported in over 20% of patients using SSRIs.\n",
            "\n",
            "📎 Sources: ['docs/Medical_book.pdf']\n",
            "\n"
          ]
        }
      ],
      "source": [
        "# Interactive Chat\n",
        "\n",
        "def start_chat():\n",
        "    print(\"🏥 Medical Chatbot (Type 'exit' to quit)\\n\")\n",
        "    while True:\n",
        "        user_q = input(\"💬 You: \").strip()\n",
        "        if user_q.lower() == \"exit\":\n",
        "            print(\"👋 Goodbye!\")\n",
        "            break\n",
        "        answer = cached_hybrid_query(user_q)  # NEW FUNCTION\n",
        "        print(f\"\\n🤖 {answer}\\n\")\n",
        "\n",
        "# Start chatbot\n",
        "start_chat()\n",
        "\n"
      ]
    },
    {
      "cell_type": "code",
      "source": [
        "import gradio as gr\n",
        "\n",
        "# Gradio function for chat\n",
        "def chat_ui(user_input, history=[]):\n",
        "    # Get answer from hybrid_query\n",
        "    answer = cached_hybrid_query(user_input)  # NEW FUNCTION\n",
        "\n",
        "    # Append to history\n",
        "    history = history + [(user_input, answer)]\n",
        "    return history, history\n",
        "\n",
        "# Create Gradio interface\n",
        "with gr.Blocks() as demo:\n",
        "    gr.Markdown(\"## 🏥 Medical Chatbot (RAG + LLM)\")\n",
        "    chatbot = gr.Chatbot(label=\"Medical Chatbot\")  # proper chat display\n",
        "    user_input = gr.Textbox(\n",
        "        placeholder=\"Ask your medical question here...\",\n",
        "        show_label=False\n",
        "    )\n",
        "    submit_btn = gr.Button(\"Send\")\n",
        "\n",
        "    submit_btn.click(chat_ui, inputs=[user_input, chatbot], outputs=[chatbot, chatbot])\n",
        "    user_input.submit(chat_ui, inputs=[user_input, chatbot], outputs=[chatbot, chatbot])\n",
        "\n",
        "demo.launch()\n"
      ],
      "metadata": {
        "colab": {
          "base_uri": "https://localhost:8080/",
          "height": 645
        },
        "id": "wps7577GC0vZ",
        "outputId": "a4847ab5-cacd-4ae9-ed3e-560d96e61862"
      },
      "execution_count": 13,
      "outputs": [
        {
          "output_type": "stream",
          "name": "stdout",
          "text": [
            "It looks like you are running Gradio on a hosted Jupyter notebook, which requires `share=True`. Automatically setting `share=True` (you can turn this off by setting `share=False` in `launch()` explicitly).\n",
            "\n",
            "Colab notebook detected. To show errors in colab notebook, set debug=True in launch()\n",
            "* Running on public URL: https://96809dc68734d2102a.gradio.live\n",
            "\n",
            "This share link expires in 1 week. For free permanent hosting and GPU upgrades, run `gradio deploy` from the terminal in the working directory to deploy to Hugging Face Spaces (https://huggingface.co/spaces)\n"
          ]
        },
        {
          "output_type": "display_data",
          "data": {
            "text/plain": [
              "<IPython.core.display.HTML object>"
            ],
            "text/html": [
              "<div><iframe src=\"https://96809dc68734d2102a.gradio.live\" width=\"100%\" height=\"500\" allow=\"autoplay; camera; microphone; clipboard-read; clipboard-write;\" frameborder=\"0\" allowfullscreen></iframe></div>"
            ]
          },
          "metadata": {}
        },
        {
          "output_type": "execute_result",
          "data": {
            "text/plain": []
          },
          "metadata": {},
          "execution_count": 13
        }
      ]
    },
    {
      "cell_type": "code",
      "source": [],
      "metadata": {
        "id": "0xGlqfpo1y45"
      },
      "execution_count": null,
      "outputs": []
    }
  ],
  "metadata": {
    "colab": {
      "provenance": []
    },
    "kernelspec": {
      "display_name": "Python 3",
      "name": "python3"
    },
    "language_info": {
      "name": "python"
    }
  },
  "nbformat": 4,
  "nbformat_minor": 0
}